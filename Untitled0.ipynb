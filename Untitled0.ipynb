{
  "nbformat": 4,
  "nbformat_minor": 0,
  "metadata": {
    "colab": {
      "name": "Untitled0.ipynb",
      "provenance": [],
      "collapsed_sections": []
    },
    "kernelspec": {
      "name": "python3",
      "display_name": "Python 3"
    },
    "language_info": {
      "name": "python"
    },
    "accelerator": "GPU"
  },
  "cells": [
    {
      "cell_type": "code",
      "execution_count": 1,
      "metadata": {
        "id": "aDUIRmk6qr5g"
      },
      "outputs": [],
      "source": [
        "import os\n",
        "from tensorflow.keras.preprocessing.image import ImageDataGenerator\n",
        "import numpy as np\n",
        "import pandas as pd\n",
        "from tensorflow.keras.applications import ResNet50\n",
        "from tensorflow.keras.models import Sequential\n",
        "from tensorflow.keras import layers"
      ]
    },
    {
      "cell_type": "code",
      "source": [
        "!git clone https://github.com/pinktop/ComputerVisionProject1.git"
      ],
      "metadata": {
        "colab": {
          "base_uri": "https://localhost:8080/"
        },
        "id": "XJbfzn2xqvui",
        "outputId": "2f79463b-657e-4258-a0bf-1141dba2933b"
      },
      "execution_count": 2,
      "outputs": [
        {
          "output_type": "stream",
          "name": "stdout",
          "text": [
            "Cloning into 'ComputerVisionProject1'...\n",
            "remote: Enumerating objects: 1387, done.\u001b[K\n",
            "remote: Counting objects: 100% (1387/1387), done.\u001b[K\n",
            "remote: Compressing objects: 100% (1385/1385), done.\u001b[K\n",
            "remote: Total 1387 (delta 55), reused 1301 (delta 1), pack-reused 0\u001b[K\n",
            "Receiving objects: 100% (1387/1387), 164.19 MiB | 13.40 MiB/s, done.\n",
            "Resolving deltas: 100% (55/55), done.\n"
          ]
        }
      ]
    },
    {
      "cell_type": "code",
      "source": [
        "# 위노그라드 알고리즘 설정\n",
        "os.environ['TF_ENABLE_WINOGRAD_NONFUSED'] = '1'"
      ],
      "metadata": {
        "id": "YnUAYll3q340"
      },
      "execution_count": 3,
      "outputs": []
    },
    {
      "cell_type": "code",
      "source": [
        "rootPath = './ComputerVisionProject1/vision/'"
      ],
      "metadata": {
        "id": "MEVJbHhXq7uj"
      },
      "execution_count": 4,
      "outputs": []
    },
    {
      "cell_type": "code",
      "source": [
        "def get_random_eraser(p=0.5, s_l=0.02, s_h=0.4, r_1=0.3, r_2=1/0.3, v_l=0, v_h=255, pixel_level=False):\n",
        "    def eraser(input_img):\n",
        "        img_h, img_w, img_c = input_img.shape\n",
        "        p_1 = np.random.rand()\n",
        "\n",
        "        if p_1 > p:\n",
        "            return input_img\n",
        "\n",
        "        while True:\n",
        "            s = np.random.uniform(s_l, s_h) * img_h * img_w\n",
        "            r = np.random.uniform(r_1, r_2)\n",
        "            w = int(np.sqrt(s / r))\n",
        "            h = int(np.sqrt(s * r))\n",
        "            left = np.random.randint(0, img_w)\n",
        "            top = np.random.randint(0, img_h)\n",
        "\n",
        "            if left + w <= img_w and top + h <= img_h:\n",
        "                break\n",
        "\n",
        "        if pixel_level:\n",
        "            c = np.random.uniform(v_l, v_h, (h, w, img_c))\n",
        "        else:\n",
        "            c = np.random.uniform(v_l, v_h)\n",
        "\n",
        "        input_img[top:top + h, left:left + w, :] = c\n",
        "\n",
        "        return input_img\n",
        "\n",
        "    return eraser\n"
      ],
      "metadata": {
        "id": "L3cNB4Oiq9DZ"
      },
      "execution_count": 5,
      "outputs": []
    },
    {
      "cell_type": "code",
      "source": [
        "imageGenerator = ImageDataGenerator(\n",
        "    rotation_range=20,\n",
        "    horizontal_flip=True,\n",
        "    vertical_flip = True,\n",
        "    preprocessing_function = get_random_eraser(v_l=0, v_h=255),\n",
        "    validation_split=.1\n",
        ") "
      ],
      "metadata": {
        "id": "qyGnLTVAq-IH"
      },
      "execution_count": 116,
      "outputs": []
    },
    {
      "cell_type": "code",
      "source": [
        "trainGen = imageGenerator.flow_from_directory(\n",
        "    os.path.join(rootPath, 'training_set'),\n",
        "    target_size=(100, 100),\n",
        "    subset='training'\n",
        ")"
      ],
      "metadata": {
        "colab": {
          "base_uri": "https://localhost:8080/"
        },
        "id": "4CgwBeS-rBpl",
        "outputId": "fd93e2af-6252-4683-f408-defcdea3d717"
      },
      "execution_count": 313,
      "outputs": [
        {
          "output_type": "stream",
          "name": "stdout",
          "text": [
            "Found 1157 images belonging to 3 classes.\n"
          ]
        }
      ]
    },
    {
      "cell_type": "code",
      "source": [
        "validationGen = imageGenerator.flow_from_directory(\n",
        "    os.path.join(rootPath, 'training_set'),\n",
        "    target_size=(100, 100),\n",
        "    subset='validation'\n",
        ")"
      ],
      "metadata": {
        "colab": {
          "base_uri": "https://localhost:8080/"
        },
        "id": "Nj-B2e-lrCw8",
        "outputId": "58eb79aa-9bc3-48f7-f0ee-e2e40a935fde"
      },
      "execution_count": 314,
      "outputs": [
        {
          "output_type": "stream",
          "name": "stdout",
          "text": [
            "Found 127 images belonging to 3 classes.\n"
          ]
        }
      ]
    },
    {
      "cell_type": "code",
      "source": [
        "model = Sequential()\n",
        "model.add(ResNet50(include_top=True, weights=None, input_shape=(100, 100, 3), classes=3))\n",
        "\n",
        "model.summary()"
      ],
      "metadata": {
        "colab": {
          "base_uri": "https://localhost:8080/"
        },
        "id": "CAmO-1_mrEAk",
        "outputId": "1a7a189e-ef08-4580-bfb0-1ed653e100bb"
      },
      "execution_count": 315,
      "outputs": [
        {
          "output_type": "stream",
          "name": "stdout",
          "text": [
            "Model: \"sequential_10\"\n",
            "_________________________________________________________________\n",
            " Layer (type)                Output Shape              Param #   \n",
            "=================================================================\n",
            " resnet50 (Functional)       (None, 3)                 23593859  \n",
            "                                                                 \n",
            "=================================================================\n",
            "Total params: 23,593,859\n",
            "Trainable params: 23,540,739\n",
            "Non-trainable params: 53,120\n",
            "_________________________________________________________________\n"
          ]
        }
      ]
    },
    {
      "cell_type": "code",
      "source": [
        "model.compile(\n",
        "    optimizer='adam',\n",
        "    loss='binary_crossentropy', \n",
        "    metrics=['acc'],\n",
        ")"
      ],
      "metadata": {
        "id": "0hQwjQO1rGDD"
      },
      "execution_count": 316,
      "outputs": []
    },
    {
      "cell_type": "code",
      "source": [
        "epochs = 150\n",
        "history = model.fit_generator(\n",
        "    trainGen, \n",
        "    epochs=epochs,\n",
        "    steps_per_epoch=trainGen.samples / epochs, \n",
        "    validation_data=validationGen,\n",
        "    validation_steps=trainGen.samples / epochs,\n",
        ")"
      ],
      "metadata": {
        "colab": {
          "base_uri": "https://localhost:8080/"
        },
        "id": "GoM85nFgrHZ2",
        "outputId": "02572b1f-2d07-4ba9-f3b4-ab34f663a193"
      },
      "execution_count": 369,
      "outputs": [
        {
          "output_type": "stream",
          "name": "stderr",
          "text": [
            "/usr/local/lib/python3.7/dist-packages/ipykernel_launcher.py:7: UserWarning: `Model.fit_generator` is deprecated and will be removed in a future version. Please use `Model.fit`, which supports generators.\n",
            "  import sys\n"
          ]
        },
        {
          "output_type": "stream",
          "name": "stdout",
          "text": [
            "Epoch 1/75\n",
            "16/15 [===============================] - ETA: 0s - loss: 0.0351 - acc: 0.9814WARNING:tensorflow:Your input ran out of data; interrupting training. Make sure that your dataset or generator can generate at least `steps_per_epoch * epochs` batches (in this case, 15.426666666666666 batches). You may need to use the repeat() function when building your dataset.\n",
            "15/15 [==============================] - 6s 378ms/step - loss: 0.0351 - acc: 0.9814 - val_loss: 0.4390 - val_acc: 0.8504\n",
            "Epoch 2/75\n",
            "15/15 [==============================] - 5s 305ms/step - loss: 0.1209 - acc: 0.9316\n",
            "Epoch 3/75\n",
            "15/15 [==============================] - 5s 308ms/step - loss: 0.0812 - acc: 0.9512\n",
            "Epoch 4/75\n",
            "15/15 [==============================] - 5s 295ms/step - loss: 0.0704 - acc: 0.9629\n",
            "Epoch 5/75\n",
            "15/15 [==============================] - 5s 302ms/step - loss: 0.0574 - acc: 0.9629\n",
            "Epoch 6/75\n",
            "15/15 [==============================] - 5s 302ms/step - loss: 0.0465 - acc: 0.9668\n",
            "Epoch 7/75\n",
            "15/15 [==============================] - 5s 302ms/step - loss: 0.0414 - acc: 0.9883\n",
            "Epoch 8/75\n",
            "15/15 [==============================] - 5s 294ms/step - loss: 0.0155 - acc: 0.9959\n",
            "Epoch 9/75\n",
            "15/15 [==============================] - 5s 304ms/step - loss: 0.0321 - acc: 0.9805\n",
            "Epoch 10/75\n",
            "15/15 [==============================] - 5s 297ms/step - loss: 0.0208 - acc: 0.9876\n",
            "Epoch 11/75\n",
            "15/15 [==============================] - 5s 305ms/step - loss: 0.0429 - acc: 0.9727\n",
            "Epoch 12/75\n",
            "15/15 [==============================] - 5s 295ms/step - loss: 0.0366 - acc: 0.9876\n",
            "Epoch 13/75\n",
            "15/15 [==============================] - 5s 305ms/step - loss: 0.0317 - acc: 0.9824\n",
            "Epoch 14/75\n",
            "15/15 [==============================] - 5s 295ms/step - loss: 0.0568 - acc: 0.9691\n",
            "Epoch 15/75\n",
            "15/15 [==============================] - 5s 305ms/step - loss: 0.0416 - acc: 0.9766\n",
            "Epoch 16/75\n",
            "15/15 [==============================] - 5s 311ms/step - loss: 0.0205 - acc: 0.9902\n",
            "Epoch 17/75\n",
            "15/15 [==============================] - 5s 305ms/step - loss: 0.0150 - acc: 0.9941\n",
            "Epoch 18/75\n",
            "15/15 [==============================] - 5s 302ms/step - loss: 0.0260 - acc: 0.9863\n",
            "Epoch 19/75\n",
            "15/15 [==============================] - 5s 303ms/step - loss: 0.0122 - acc: 0.9980\n",
            "Epoch 20/75\n",
            "15/15 [==============================] - 5s 303ms/step - loss: 0.0082 - acc: 0.9980\n",
            "Epoch 21/75\n",
            "15/15 [==============================] - 5s 300ms/step - loss: 0.0069 - acc: 0.9961\n",
            "Epoch 22/75\n",
            "15/15 [==============================] - 5s 301ms/step - loss: 0.0125 - acc: 0.9961\n",
            "Epoch 23/75\n",
            "15/15 [==============================] - 5s 294ms/step - loss: 0.0137 - acc: 0.9979\n",
            "Epoch 24/75\n",
            "15/15 [==============================] - 5s 292ms/step - loss: 0.0173 - acc: 0.9938\n",
            "Epoch 25/75\n",
            "15/15 [==============================] - 5s 292ms/step - loss: 0.1804 - acc: 0.9196\n",
            "Epoch 26/75\n",
            "15/15 [==============================] - 5s 301ms/step - loss: 0.0656 - acc: 0.9609\n",
            "Epoch 27/75\n",
            "15/15 [==============================] - 5s 301ms/step - loss: 0.0707 - acc: 0.9609\n",
            "Epoch 28/75\n",
            "15/15 [==============================] - 5s 299ms/step - loss: 0.0452 - acc: 0.9707\n",
            "Epoch 29/75\n",
            "15/15 [==============================] - 5s 300ms/step - loss: 0.0627 - acc: 0.9551\n",
            "Epoch 30/75\n",
            "15/15 [==============================] - 5s 301ms/step - loss: 0.0333 - acc: 0.9824\n",
            "Epoch 31/75\n",
            "15/15 [==============================] - 5s 307ms/step - loss: 0.0389 - acc: 0.9753\n",
            "Epoch 32/75\n",
            "15/15 [==============================] - 5s 294ms/step - loss: 0.0202 - acc: 0.9918\n",
            "Epoch 33/75\n",
            "15/15 [==============================] - 5s 304ms/step - loss: 0.0195 - acc: 0.9883\n",
            "Epoch 34/75\n",
            "15/15 [==============================] - 5s 306ms/step - loss: 0.0280 - acc: 0.9844\n",
            "Epoch 35/75\n",
            "15/15 [==============================] - 5s 300ms/step - loss: 0.0384 - acc: 0.9785\n",
            "Epoch 36/75\n",
            "15/15 [==============================] - 5s 296ms/step - loss: 0.0347 - acc: 0.9835\n",
            "Epoch 37/75\n",
            "15/15 [==============================] - 5s 303ms/step - loss: 0.0335 - acc: 0.9824\n",
            "Epoch 38/75\n",
            "15/15 [==============================] - 5s 304ms/step - loss: 0.0328 - acc: 0.9883\n",
            "Epoch 39/75\n",
            "15/15 [==============================] - 5s 300ms/step - loss: 0.0227 - acc: 0.9922\n",
            "Epoch 40/75\n",
            "15/15 [==============================] - 5s 292ms/step - loss: 0.0307 - acc: 0.9814\n",
            "Epoch 41/75\n",
            "15/15 [==============================] - 5s 300ms/step - loss: 0.0269 - acc: 0.9883\n",
            "Epoch 42/75\n",
            "15/15 [==============================] - 5s 293ms/step - loss: 0.0327 - acc: 0.9835\n",
            "Epoch 43/75\n",
            "15/15 [==============================] - 5s 304ms/step - loss: 0.0557 - acc: 0.9688\n",
            "Epoch 44/75\n",
            "15/15 [==============================] - 5s 305ms/step - loss: 0.0406 - acc: 0.9824\n",
            "Epoch 45/75\n",
            "15/15 [==============================] - 5s 296ms/step - loss: 0.0338 - acc: 0.9897\n",
            "Epoch 46/75\n",
            "15/15 [==============================] - 5s 295ms/step - loss: 0.0563 - acc: 0.9711\n",
            "Epoch 47/75\n",
            "15/15 [==============================] - 5s 301ms/step - loss: 0.0435 - acc: 0.9766\n",
            "Epoch 48/75\n",
            "15/15 [==============================] - 5s 293ms/step - loss: 0.0327 - acc: 0.9814\n",
            "Epoch 49/75\n",
            "15/15 [==============================] - 5s 296ms/step - loss: 0.0931 - acc: 0.9464\n",
            "Epoch 50/75\n",
            "15/15 [==============================] - 5s 303ms/step - loss: 0.0993 - acc: 0.9492\n",
            "Epoch 51/75\n",
            "15/15 [==============================] - 5s 296ms/step - loss: 0.0480 - acc: 0.9649\n",
            "Epoch 52/75\n",
            "15/15 [==============================] - 5s 299ms/step - loss: 0.0365 - acc: 0.9794\n",
            "Epoch 53/75\n",
            "15/15 [==============================] - 5s 301ms/step - loss: 0.0265 - acc: 0.9883\n",
            "Epoch 54/75\n",
            "15/15 [==============================] - 5s 299ms/step - loss: 0.0232 - acc: 0.9922\n",
            "Epoch 55/75\n",
            "15/15 [==============================] - 5s 306ms/step - loss: 0.0141 - acc: 0.9961\n",
            "Epoch 56/75\n",
            "15/15 [==============================] - 5s 301ms/step - loss: 0.0194 - acc: 0.9922\n",
            "Epoch 57/75\n",
            "15/15 [==============================] - 5s 301ms/step - loss: 0.0120 - acc: 0.9941\n",
            "Epoch 58/75\n",
            "15/15 [==============================] - 5s 297ms/step - loss: 0.0113 - acc: 0.9961\n",
            "Epoch 59/75\n",
            "15/15 [==============================] - 5s 300ms/step - loss: 0.0167 - acc: 0.9941\n",
            "Epoch 60/75\n",
            "15/15 [==============================] - 5s 296ms/step - loss: 0.0140 - acc: 0.9922\n",
            "Epoch 61/75\n",
            "15/15 [==============================] - 5s 296ms/step - loss: 0.0111 - acc: 0.9922\n",
            "Epoch 62/75\n",
            "15/15 [==============================] - 5s 303ms/step - loss: 0.0166 - acc: 0.9922\n",
            "Epoch 63/75\n",
            "15/15 [==============================] - 5s 298ms/step - loss: 0.0216 - acc: 0.9902\n",
            "Epoch 64/75\n",
            "15/15 [==============================] - 5s 299ms/step - loss: 0.0311 - acc: 0.9785\n",
            "Epoch 65/75\n",
            "15/15 [==============================] - 5s 298ms/step - loss: 0.0261 - acc: 0.9844\n",
            "Epoch 66/75\n",
            "15/15 [==============================] - 5s 294ms/step - loss: 0.0160 - acc: 0.9897\n",
            "Epoch 67/75\n",
            "15/15 [==============================] - 5s 299ms/step - loss: 0.0163 - acc: 0.9902\n",
            "Epoch 68/75\n",
            "15/15 [==============================] - 5s 291ms/step - loss: 0.0301 - acc: 0.9835\n",
            "Epoch 69/75\n",
            "15/15 [==============================] - 5s 300ms/step - loss: 0.0294 - acc: 0.9824\n",
            "Epoch 70/75\n",
            "15/15 [==============================] - 5s 295ms/step - loss: 0.0135 - acc: 0.9959\n",
            "Epoch 71/75\n",
            "15/15 [==============================] - 5s 293ms/step - loss: 0.0191 - acc: 0.9876\n",
            "Epoch 72/75\n",
            "15/15 [==============================] - 5s 296ms/step - loss: 0.0128 - acc: 0.9922\n",
            "Epoch 73/75\n",
            "15/15 [==============================] - 5s 300ms/step - loss: 0.0540 - acc: 0.9727\n",
            "Epoch 74/75\n",
            "15/15 [==============================] - 5s 297ms/step - loss: 0.1197 - acc: 0.9434\n",
            "Epoch 75/75\n",
            "15/15 [==============================] - 5s 301ms/step - loss: 0.0259 - acc: 0.9902\n"
          ]
        }
      ]
    },
    {
      "cell_type": "code",
      "source": [
        "testGen = imageGenerator.flow_from_directory(\n",
        "    os.path.join(rootPath, 'test_set'),\n",
        "    target_size=(100, 100),\n",
        ")"
      ],
      "metadata": {
        "colab": {
          "base_uri": "https://localhost:8080/"
        },
        "id": "NrCjI1PSrJ5N",
        "outputId": "1dda2e28-10a8-4ea2-f2e5-c22d22c8c3c2"
      },
      "execution_count": 370,
      "outputs": [
        {
          "output_type": "stream",
          "name": "stdout",
          "text": [
            "Found 15 images belonging to 3 classes.\n"
          ]
        }
      ]
    },
    {
      "cell_type": "code",
      "source": [
        "pred = model.predict(testGen)"
      ],
      "metadata": {
        "id": "4whIQLvarNSw"
      },
      "execution_count": 371,
      "outputs": []
    },
    {
      "cell_type": "code",
      "source": [
        "img_list = testGen.filenames"
      ],
      "metadata": {
        "id": "pJzlg-O0rPA_"
      },
      "execution_count": 372,
      "outputs": []
    },
    {
      "cell_type": "code",
      "source": [
        "pred_list = []\n",
        "for i in range(len(pred)):\n",
        "    pred_list.append(np.argmax(pred[i]))"
      ],
      "metadata": {
        "id": "Fo98iJgPrS0V"
      },
      "execution_count": 373,
      "outputs": []
    },
    {
      "cell_type": "code",
      "source": [
        "df = pd.DataFrame(list(zip(img_list, pred_list)), columns =['Name', 'pred'])"
      ],
      "metadata": {
        "id": "N51HW0iBrT8_"
      },
      "execution_count": 374,
      "outputs": []
    },
    {
      "cell_type": "code",
      "source": [
        "df.to_csv('submission.csv', index=False)"
      ],
      "metadata": {
        "id": "-OhADKAGrU9x"
      },
      "execution_count": 375,
      "outputs": []
    },
    {
      "cell_type": "code",
      "source": [
        "imageGenerator = ImageDataGenerator(\n",
        "    rotation_range=20,\n",
        "    horizontal_flip=True,\n",
        "    preprocessing_function = get_random_eraser(v_l=0, v_h=255),\n",
        "    validation_split=.1\n",
        ") \n",
        "\n",
        "\n",
        "from tensorflow.keras.applications import NASNetMobile\n",
        "\n",
        "model = Sequential()\n",
        "model.add(NASNetMobile(include_top=True, weights=None, input_shape=(100, 100, 3), classes=3))\n",
        "\n",
        "model.summary()"
      ],
      "metadata": {
        "colab": {
          "base_uri": "https://localhost:8080/"
        },
        "id": "ARrIATCTrW2W",
        "outputId": "18148c17-cffc-4dfc-e9be-0535da90d710"
      },
      "execution_count": 293,
      "outputs": [
        {
          "output_type": "stream",
          "name": "stdout",
          "text": [
            "Model: \"sequential_8\"\n",
            "_________________________________________________________________\n",
            " Layer (type)                Output Shape              Param #   \n",
            "=================================================================\n",
            " NASNet (Functional)         (None, 3)                 4272887   \n",
            "                                                                 \n",
            "=================================================================\n",
            "Total params: 4,272,887\n",
            "Trainable params: 4,236,149\n",
            "Non-trainable params: 36,738\n",
            "_________________________________________________________________\n"
          ]
        }
      ]
    },
    {
      "cell_type": "code",
      "source": [
        ""
      ],
      "metadata": {
        "id": "zuF-vmvS2b3f"
      },
      "execution_count": null,
      "outputs": []
    },
    {
      "cell_type": "code",
      "source": [
        "imageGenerator = ImageDataGenerator(\n",
        "    rotation_range=20,\n",
        "    vertical_flip = True,\n",
        "    preprocessing_function = get_random_eraser(v_l=0, v_h=255),\n",
        "    validation_split=.1\n",
        ") "
      ],
      "metadata": {
        "id": "U0JHT-ts2urW"
      },
      "execution_count": null,
      "outputs": []
    },
    {
      "cell_type": "code",
      "source": [
        "print(\"정확도 :\", model.evaluate_generator(testGen))"
      ],
      "metadata": {
        "colab": {
          "base_uri": "https://localhost:8080/"
        },
        "id": "7ADwmhxLyOzQ",
        "outputId": "e1a1c94e-77a5-41d9-e89c-d8a2cfc0b8aa"
      },
      "execution_count": 237,
      "outputs": [
        {
          "output_type": "stream",
          "name": "stderr",
          "text": [
            "/usr/local/lib/python3.7/dist-packages/ipykernel_launcher.py:1: UserWarning: `Model.evaluate_generator` is deprecated and will be removed in a future version. Please use `Model.evaluate`, which supports generators.\n",
            "  \"\"\"Entry point for launching an IPython kernel.\n"
          ]
        },
        {
          "output_type": "stream",
          "name": "stdout",
          "text": [
            "정확도 : [0.783462405204773, 0.6000000238418579]\n"
          ]
        }
      ]
    },
    {
      "cell_type": "code",
      "source": [
        ""
      ],
      "metadata": {
        "id": "reG9bgV22unr"
      },
      "execution_count": null,
      "outputs": []
    },
    {
      "cell_type": "code",
      "source": [
        "imageGenerator = ImageDataGenerator(\n",
        "    rotation_range=20,\n",
        "    zoom_range = 0.2,\n",
        "    horizontal_flip=True,\n",
        "    preprocessing_function = get_random_eraser(v_l=0, v_h=255),\n",
        "    validation_split=.1\n",
        ") "
      ],
      "metadata": {
        "id": "ZLY5x3BQ2ceD"
      },
      "execution_count": null,
      "outputs": []
    },
    {
      "cell_type": "code",
      "source": [
        "print(\"정확도 :\", model.evaluate_generator(testGen))"
      ],
      "metadata": {
        "colab": {
          "base_uri": "https://localhost:8080/"
        },
        "id": "wM1B9LCO2fhJ",
        "outputId": "f29b5c4b-89da-4607-eb18-40bbfb8afc41"
      },
      "execution_count": 251,
      "outputs": [
        {
          "output_type": "stream",
          "name": "stderr",
          "text": [
            "/usr/local/lib/python3.7/dist-packages/ipykernel_launcher.py:1: UserWarning: `Model.evaluate_generator` is deprecated and will be removed in a future version. Please use `Model.evaluate`, which supports generators.\n",
            "  \"\"\"Entry point for launching an IPython kernel.\n"
          ]
        },
        {
          "output_type": "stream",
          "name": "stdout",
          "text": [
            "정확도 : [0.7136057615280151, 0.6666666865348816]\n"
          ]
        }
      ]
    },
    {
      "cell_type": "code",
      "source": [
        ""
      ],
      "metadata": {
        "id": "4GgE-3kg5lpL"
      },
      "execution_count": null,
      "outputs": []
    },
    {
      "cell_type": "code",
      "source": [
        "imageGenerator = ImageDataGenerator(\n",
        "    preprocessing_function = get_random_eraser(v_l=0, v_h=255),\n",
        "    validation_split=.1\n",
        ") "
      ],
      "metadata": {
        "id": "L2r5VR_95lmc"
      },
      "execution_count": 252,
      "outputs": []
    },
    {
      "cell_type": "code",
      "source": [
        "print(\"정확도 :\", model.evaluate_generator(testGen))"
      ],
      "metadata": {
        "colab": {
          "base_uri": "https://localhost:8080/"
        },
        "id": "8IxPStQe2zs-",
        "outputId": "822643a0-bf32-4b32-a6b3-1936dc2f3515"
      },
      "execution_count": 292,
      "outputs": [
        {
          "output_type": "stream",
          "name": "stderr",
          "text": [
            "/usr/local/lib/python3.7/dist-packages/ipykernel_launcher.py:1: UserWarning: `Model.evaluate_generator` is deprecated and will be removed in a future version. Please use `Model.evaluate`, which supports generators.\n",
            "  \"\"\"Entry point for launching an IPython kernel.\n"
          ]
        },
        {
          "output_type": "stream",
          "name": "stdout",
          "text": [
            "정확도 : [0.1561785340309143, 0.8666666746139526]\n"
          ]
        }
      ]
    },
    {
      "cell_type": "code",
      "source": [
        "imageGenerator = ImageDataGenerator(\n",
        "    rotation_range=10,\n",
        "    preprocessing_function = get_random_eraser(v_l=0, v_h=255),\n",
        "    validation_split=.1\n",
        ") "
      ],
      "metadata": {
        "id": "I66eP7fT8--F"
      },
      "execution_count": 312,
      "outputs": []
    },
    {
      "cell_type": "code",
      "source": [
        "print(\"정확도 :\", model.evaluate_generator(testGen))"
      ],
      "metadata": {
        "colab": {
          "base_uri": "https://localhost:8080/"
        },
        "id": "DtJWT63Y6YKh",
        "outputId": "6753645d-b3e0-45d2-f9a7-f0da77417ebc"
      },
      "execution_count": 353,
      "outputs": [
        {
          "output_type": "stream",
          "name": "stderr",
          "text": [
            "/usr/local/lib/python3.7/dist-packages/ipykernel_launcher.py:1: UserWarning: `Model.evaluate_generator` is deprecated and will be removed in a future version. Please use `Model.evaluate`, which supports generators.\n",
            "  \"\"\"Entry point for launching an IPython kernel.\n"
          ]
        },
        {
          "output_type": "stream",
          "name": "stdout",
          "text": [
            "정확도 : [0.339119017124176, 0.9333333373069763]\n"
          ]
        }
      ]
    },
    {
      "cell_type": "code",
      "source": [
        ""
      ],
      "metadata": {
        "id": "-tPryVdcAUzs"
      },
      "execution_count": null,
      "outputs": []
    }
  ]
}